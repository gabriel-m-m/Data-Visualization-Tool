{
 "cells": [
  {
   "cell_type": "code",
   "execution_count": null,
   "id": "216d8e1c",
   "metadata": {},
   "outputs": [],
   "source": [
    "import numpy as np\n",
    "import pandas as pd\n",
    "import networkx as nx\n",
    "from bokeh.io import export_png\n",
    "from bokeh.io import output_file, show\n",
    "from bokeh.plotting import figure, from_networkx, output_file\n",
    "from bokeh.models import ColumnDataSource, LabelSet, Circle, MultiLine\n",
    "from matplotlib.colors import is_color_like"
   ]
  },
  {
   "cell_type": "markdown",
   "id": "d586e25e",
   "metadata": {},
   "source": [
    "Reading .xlsx file"
   ]
  },
  {
   "cell_type": "code",
   "execution_count": null,
   "id": "64a6dd11",
   "metadata": {
    "scrolled": true
   },
   "outputs": [],
   "source": [
    "node_colour = '#161547' # default value\n",
    "edge_colour = '#e0265e' # default value\n",
    "\n",
    "# EFFECTS : Converts chosen .xlsx file into df and filters for author names\n",
    "#           Allows user to choose node and edge colours\n",
    "# MODIFIES : Sets node_colour and edge_colour\n",
    "def reader():\n",
    "    filepath = input(\"Enter file path:\")\n",
    "    while(True):\n",
    "        try:\n",
    "            df = pd.read_excel(filepath)\n",
    "            break \n",
    "        except FileNotFoundError:\n",
    "            filepath = input(\"Invalid path. Please enter a valid file path\")\n",
    "    pub_authors_list = df[\"team-members\"]\n",
    "    global node_colour\n",
    "    global edge_colour\n",
    "    node_colour = input(\"Enter a colour for the nodes as a hexidemical (ex: #A1B2C3)\")\n",
    "    while(True):\n",
    "        if not is_color_like(node_colour):\n",
    "             node_colour = input(\"Invalid colour. Please try again\")\n",
    "        else:\n",
    "             break\n",
    "    edge_colour = input(\"Enter a colour for the nodes as a hexidemical (ex: #D4E5F6)\")\n",
    "    while(True):\n",
    "        if not is_color_like(edge_colour):\n",
    "             edge_colour = input(\"Invalid colour. Please try again\")\n",
    "        else:\n",
    "             break\n",
    "    clean_data(pub_authors_list)"
   ]
  },
  {
   "cell_type": "markdown",
   "id": "f4b62aa3",
   "metadata": {},
   "source": [
    "Cleaning data and generating edge list"
   ]
  },
  {
   "cell_type": "code",
   "execution_count": null,
   "id": "60d5bbcc",
   "metadata": {},
   "outputs": [],
   "source": [
    "# REQUIRES : List of publication authors, with author names seperated by \"/\"\n",
    "# EFFECTS : Turns pub_authors_list into 2d array of author names, creates set of author names\n",
    "#           and generates all possible pairwise combinations of names\n",
    "def clean_data(pub_authors_list):\n",
    "    authors_set = set()\n",
    "    pub_list = []\n",
    "    edge_list = {}\n",
    "    for pub_authors in pub_authors_list:\n",
    "        authors_list = list(pub_authors.split(\"/\"))\n",
    "        for name in authors_list:\n",
    "            authors_set.add(name)\n",
    "        pub_list.append(authors_list)\n",
    "    authors_list = list(authors_set) \n",
    "    for i in range(len(authors_list)):\n",
    "        for j in range(i+1, len(authors_list)):\n",
    "            edge_list.update({(authors_list[i], authors_list[j]): 0})\n",
    "    create_graph(edge_list, authors_set, pub_list)"
   ]
  },
  {
   "cell_type": "markdown",
   "id": "e5cbe74e",
   "metadata": {},
   "source": [
    "Creating and populating network graph"
   ]
  },
  {
   "cell_type": "code",
   "execution_count": null,
   "id": "b84ee90c",
   "metadata": {},
   "outputs": [],
   "source": [
    "# REQUIRES : edge_data - list of all possible pairwise combinations\n",
    "#            node_set - set of all author names\n",
    "#            pubs_list - 2d array of author names, names must be contained in node_set\n",
    "# EFFECTS : Creates circular network graph of authors, with edge weight corresponding to shared\n",
    "#           publications between two nodes\n",
    "def create_graph(edge_data, node_set, pubs_list):   \n",
    "    G = nx.Graph()\n",
    "    node_list = list(node_set)\n",
    "    for node in node_list:\n",
    "        G.add_node(node)\n",
    "    for key in list(edge_data.keys()):\n",
    "        G.add_edge(*key, weight=0, color  = edge_colour)\n",
    "    for authors in pubs_list:\n",
    "        for i in range(len(authors)):\n",
    "            for j in range(i+1, len(authors)):\n",
    "                G.edges[(authors[i], authors[j])]['weight'] = G.edges[(authors[i], authors[j])]['weight'] + 1   \n",
    "    for u,v in G.edges:\n",
    "        if G[u][v]['weight'] == 0:\n",
    "            G.remove_edge(u, v)  \n",
    "    pos = nx.circular_layout(G)\n",
    "    plot_graph(G, pos)"
   ]
  },
  {
   "cell_type": "markdown",
   "id": "38808df0",
   "metadata": {},
   "source": [
    "Converting network graph to bokeh plot"
   ]
  },
  {
   "cell_type": "code",
   "execution_count": null,
   "id": "c10a0b76",
   "metadata": {
    "scrolled": false
   },
   "outputs": [],
   "source": [
    "# REQUIRES : Valid NetworkX graph and layout\n",
    "# EFFECTS : Converts graph into a bokeh visual, add labels for each node\n",
    "def plot_graph(G, layout):\n",
    "    node_list = list(G.nodes)\n",
    "    p = figure()\n",
    "    graph = from_networkx(G, layout, scale=1, center=(0,0))\n",
    "    graph.edge_renderer.data_source.data[\"line_color\"] = [G.get_edge_data(a,b)['color'] for a, b in G.edges()]\n",
    "    graph.edge_renderer.glyph.line_color = {'field': 'line_color'}\n",
    "    graph.edge_renderer.data_source.data[\"line_width\"] = [G.get_edge_data(a,b)['weight'] for a, b in G.edges()]\n",
    "    graph.edge_renderer.glyph.line_width = {'field': 'line_width'}\n",
    "    graph.node_renderer.glyph = Circle(size = 10, line_color = node_colour, fill_color = '#161547')\n",
    "    \n",
    "    x,y = zip(*layout.values())\n",
    "    \n",
    "    # returns text_align value based on location around circle\n",
    "    alignment = lambda i : 'center' if round(10*x[i]) == 0 else 'left' if x[i] > 0 else 'right'\n",
    "    \n",
    "    source = ColumnDataSource({'x':x, 'y':y, 'name': [node_list[i] for i in range(len(x))], \n",
    "                               'text_align': [alignment(i) for i in range(len(x))], \n",
    "                               'x_offset': [0 if alignment(i) == 'center' else 10*np.sign(x[i]) for i in range(len(x))],\n",
    "                               'y_offset': [0 if round(10*y[i]) == 0 else (15 if alignment(i) == 'center' else 10)*np.sign(y[i]) for i in range(len(x))]})\n",
    "    labels = LabelSet(x ='x', y = 'y', text = 'name', text_align = 'text_align', \n",
    "                      x_offset = 'x_offset', y_offset = 'y_offset',  source = source, text_baseline = 'middle')\n",
    "    \n",
    "    p.renderers.append(labels)\n",
    "    p.renderers.append(graph)\n",
    "    p.xaxis.visible = False\n",
    "    p.xgrid.visible = False\n",
    "    p.yaxis.visible = False\n",
    "    p.ygrid.visible = False\n",
    "    show(p)\n",
    "\n",
    "reader()"
   ]
  }
 ],
 "metadata": {
  "kernelspec": {
   "display_name": "Python 3 (ipykernel)",
   "language": "python",
   "name": "python3"
  },
  "language_info": {
   "codemirror_mode": {
    "name": "ipython",
    "version": 3
   },
   "file_extension": ".py",
   "mimetype": "text/x-python",
   "name": "python",
   "nbconvert_exporter": "python",
   "pygments_lexer": "ipython3",
   "version": "3.10.9"
  },
  "vscode": {
   "interpreter": {
    "hash": "c72ddbf62f0739649c23bb2c37a030cfffae1ec9501c3ae6cbc6dc0632027582"
   }
  }
 },
 "nbformat": 4,
 "nbformat_minor": 5
}
